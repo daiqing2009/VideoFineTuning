{
 "cells": [
  {
   "attachments": {},
   "cell_type": "markdown",
   "metadata": {},
   "source": [
    "In this tutorial, we will finish these tasks\n",
    "* read video and write to a new video\n",
    "* fast forward video play \n",
    "* create cached thumbnails for the video so that we can do a faster randon search on the video"
   ]
  }
 ],
 "metadata": {
  "kernelspec": {
   "display_name": ".venv",
   "language": "python",
   "name": "python3"
  },
  "language_info": {
   "name": "python",
   "version": "3.9.12"
  },
  "orig_nbformat": 4,
  "vscode": {
   "interpreter": {
    "hash": "44543b98ae82580b19f34ce7289d97293a434c0c3e3052205a842176ea157cee"
   }
  }
 },
 "nbformat": 4,
 "nbformat_minor": 2
}
